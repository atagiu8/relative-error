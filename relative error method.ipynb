{
 "cells": [
  {
   "cell_type": "code",
   "execution_count": 119,
   "metadata": {},
   "outputs": [
    {
     "name": "stdout",
     "output_type": "stream",
     "text": [
      "0.17814156465322178\n",
      "a: 0.2\n",
      "b: 0.8\n"
     ]
    }
   ],
   "source": [
    "import pandas as pd\n",
    "import numpy as np\n",
    "from statistics import mean\n",
    "\n",
    "x=pd.read_csv(\"submission_x.csv\")[\"target\"]\n",
    "y=pd.read_csv(\"submission_y.csv\")[\"target\"]\n",
    "z=pd.read_csv(\"submission_best.csv\")[\"target\"]\n",
    "#x:Prediction you want to ensemble\n",
    "#y:Prediction that contributed to the best prediction\n",
    "#z:Best prediction\n",
    "df=pd.read_csv(\"sample_submission.csv\")\n",
    "\n",
    "best=len(x)\n",
    "for a in np.arange(0, 1, 0.1):\n",
    "    b=1-a\n",
    "    c=(a*x+b*y)\n",
    "    d=abs(z-c)/z\n",
    "    res=mean(d)\n",
    "    if res <best:\n",
    "        best=res\n",
    "        beat_a=a\n",
    "        beat_b=b\n",
    "        \n",
    "if best>0.5:\n",
    "    print(\"Do not recommend ensemble\")\n",
    "else:\n",
    "    best_pre=z*0.9+c*0.1\n",
    "    df[\"target\"]=best_pre\n",
    "    #df.to_csv(\"submission.csv\")\n",
    "print(best)\n",
    "print(f'a: {beat_a}')\n",
    "print(f'b: {beat_b}')"
   ]
  },
  {
   "cell_type": "code",
   "execution_count": 118,
   "metadata": {},
   
